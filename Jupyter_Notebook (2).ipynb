{
 "cells": [
  {
   "cell_type": "markdown",
   "metadata": {},
   "source": [
    "<center>\n",
    "    <img src=\"https://cf-courses-data.s3.us.cloud-object-storage.appdomain.cloud/IBMDeveloperSkillsNetwork-DS0105EN-SkillsNetwork/labs/Module2/images/SN_web_lightmode.png\" width=\"300\" alt=\"cognitiveclass.ai logo\">\n",
    "</center>\n"
   ]
  },
  {
   "cell_type": "markdown",
   "metadata": {
    "tags": []
   },
   "source": [
    "#### Add your code below following the instructions given in the course\n"
   ]
  },
  {
   "cell_type": "markdown",
   "metadata": {},
   "source": [
    "# Data Science Tools and Ecosystem"
   ]
  },
  {
   "cell_type": "code",
   "execution_count": null,
   "metadata": {},
   "outputs": [],
   "source": [
    "# Markdown cell for title of the notebook"
   ]
  },
  {
   "cell_type": "markdown",
   "metadata": {
    "tags": []
   },
   "source": [
    "### Data Science tools and ecosystems include various software and frameworks for data analysis, machine learning, and big data processing. Key tools are programming languages like Python and R, with libraries such as Pandas, NumPy, and ggplot2. IDEs like Jupyter Notebook and RStudio boost productivity. Platforms like Apache Hadoop and Spark handle big data. Visualization tools like Tableau and Matplotlib offer data representation. Cloud services like AWS, Google Cloud, and Azure provide scalable infrastructure for data storage and computation, essential for modern data science."
   ]
  },
  {
   "cell_type": "code",
   "execution_count": null,
   "metadata": {},
   "outputs": [],
   "source": [
    "# Markdown cell for Introduction"
   ]
  },
  {
   "cell_type": "markdown",
   "metadata": {},
   "source": [
    "### Some of the important Data Science languages are :\n",
    "### Python\n",
    "### SQL (Structured Query Language)\n",
    "### R\n",
    "### Julia\n",
    "### JavaScript\n",
    "### Scala\n",
    "### Java\n",
    "### Go\n",
    "### C/C++\n",
    "### Swift"
   ]
  },
  {
   "cell_type": "code",
   "execution_count": null,
   "metadata": {},
   "outputs": [],
   "source": [
    "# Markdown cell for Data Science Languages"
   ]
  },
  {
   "cell_type": "markdown",
   "metadata": {
    "tags": []
   },
   "source": [
    "### Data Science Libraries :\n",
    "\n",
    "### TensorFlow\n",
    "### NumPy\n",
    "### SciPy \n",
    "### Pandas\n",
    "### Matplotlib \n",
    "### Keras\n",
    "### SciKit-Learn\n",
    "### PyTorch"
   ]
  },
  {
   "cell_type": "code",
   "execution_count": null,
   "metadata": {},
   "outputs": [],
   "source": [
    "# Markdown cell for Data Science Libraries"
   ]
  },
  {
   "cell_type": "markdown",
   "metadata": {},
   "source": [
    "### Data Science Tools:\n",
    "\n",
    "#### Jupyter Notebook\n",
    "#### Apache Spark\n",
    "#### Apache Hadoop\n",
    "#### Matplotlib\n",
    "#### TensorFlow\n",
    "#### Pandas\n",
    "#### SQL\n",
    "#### R\n",
    "#### PyTorch\n",
    "#### Excel"
   ]
  },
  {
   "cell_type": "code",
   "execution_count": null,
   "metadata": {},
   "outputs": [],
   "source": [
    "# Markdown cell for Data Science Tools"
   ]
  },
  {
   "cell_type": "code",
   "execution_count": 1,
   "metadata": {
    "tags": []
   },
   "outputs": [
    {
     "data": {
      "text/plain": [
       "4808"
      ]
     },
     "execution_count": 1,
     "metadata": {},
     "output_type": "execute_result"
    }
   ],
   "source": [
    "# Arithmetic expression example\n",
    "\n",
    "40*(30*4)+8"
   ]
  },
  {
   "cell_type": "code",
   "execution_count": 5,
   "metadata": {
    "tags": []
   },
   "outputs": [
    {
     "name": "stdout",
     "output_type": "stream",
     "text": [
      "The result of 3 * 4 is: 12\n",
      "The result of 12 + 5 is: 17\n"
     ]
    }
   ],
   "source": [
    "# Create a code cell to multiply and add numbers.\n",
    "a = 3\n",
    "b = 4\n",
    "c = 5\n",
    "\n",
    "multi_result = a * b\n",
    "add_result = multi_result + c\n",
    "\n",
    "print(f\"The result of {a} * {b} is: {multi_result}\")\n",
    "print(f\"The result of {multi_result} + {c} is: {add_result}\")\n"
   ]
  },
  {
   "cell_type": "code",
   "execution_count": 4,
   "metadata": {
    "tags": []
   },
   "outputs": [
    {
     "name": "stdout",
     "output_type": "stream",
     "text": [
      "200 minutes is equal to 3.3333333333333335 hours\n"
     ]
    }
   ],
   "source": [
    "# Create a code cell to convert minutes to hours.\n",
    "min = 200\n",
    "\n",
    "hrs = min / 60\n",
    "\n",
    "print(f\"{min} minutes is equal to {hrs} hours\")"
   ]
  },
  {
   "cell_type": "markdown",
   "metadata": {},
   "source": [
    "### Objectives:\n",
    "\n",
    "#### 1. Data collection and acquitision\n",
    "#### 2. Data cleaning and preprocessing\n",
    "#### 3. Data exploration and visualization\n",
    "#### 4. Data analysis and modeling\n",
    "#### 5. Deployment and operationalization\n",
    "#### 6. Collaboration and reproducibility\n",
    "#### 7. Reporting and communication"
   ]
  },
  {
   "cell_type": "code",
   "execution_count": null,
   "metadata": {},
   "outputs": [],
   "source": [
    "# Objectives markdown list"
   ]
  },
  {
   "cell_type": "markdown",
   "metadata": {},
   "source": [
    "## Author's Name:\n",
    "\n",
    "### Lakshmi Holla\n",
    "### Niveditha Pandith"
   ]
  },
  {
   "cell_type": "code",
   "execution_count": null,
   "metadata": {},
   "outputs": [],
   "source": [
    "# Markdown cell for Author's name"
   ]
  }
 ],
 "metadata": {
  "kernelspec": {
   "display_name": "Python",
   "language": "python",
   "name": "conda-env-python-py"
  },
  "language_info": {
   "codemirror_mode": {
    "name": "ipython",
    "version": 3
   },
   "file_extension": ".py",
   "mimetype": "text/x-python",
   "name": "python",
   "nbconvert_exporter": "python",
   "pygments_lexer": "ipython3",
   "version": "3.7.12"
  }
 },
 "nbformat": 4,
 "nbformat_minor": 4
}
